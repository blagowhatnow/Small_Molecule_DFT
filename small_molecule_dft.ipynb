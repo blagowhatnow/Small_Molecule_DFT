{
 "cells": [
  {
   "cell_type": "code",
   "execution_count": null,
   "id": "acfa92f6",
   "metadata": {
    "scrolled": true
   },
   "outputs": [
    {
     "name": "stdout",
     "output_type": "stream",
     "text": [
      "\n",
      "  Memory set to   3.958 GiB by Python driver.\n",
      "  Threads set to 4 by Python driver.\n",
      "\n",
      "*** tstart() called on Bedabratas-MacBook-Air.local\n",
      "*** at Sat Dec 17 20:14:56 2022\n",
      "\n",
      "   => Loading Basis Set <=\n",
      "\n",
      "    Name: AUG-CC-PVDZ\n",
      "    Role: ORBITAL\n",
      "    Keyword: BASIS\n",
      "    atoms 1-2, 5-10 entry C          line   178 file /opt/miniconda3/envs/python2/share/psi4/basis/aug-cc-pvdz.gbs \n",
      "    atoms 3, 11     entry O          line   250 file /opt/miniconda3/envs/python2/share/psi4/basis/aug-cc-pvdz.gbs \n",
      "    atoms 4         entry N          line   214 file /opt/miniconda3/envs/python2/share/psi4/basis/aug-cc-pvdz.gbs \n",
      "    atoms 12-20     entry H          line    36 file /opt/miniconda3/envs/python2/share/psi4/basis/aug-cc-pvdz.gbs \n",
      "\n",
      "\n",
      "         ---------------------------------------------------------\n",
      "                                   SCF\n",
      "               by Justin Turney, Rob Parrish, Andy Simmonett\n",
      "                          and Daniel G. A. Smith\n",
      "                              RKS Reference\n",
      "                        4 Threads,   4053 MiB Core\n",
      "         ---------------------------------------------------------\n",
      "\n",
      "  ==> Geometry <==\n",
      "\n",
      "    Molecular point group: c1\n",
      "    Full point group: C1\n",
      "\n",
      "    Geometry (in Angstrom), charge = 0, multiplicity = 1:\n",
      "\n",
      "       Center              X                  Y                   Z               Mass       \n",
      "    ------------   -----------------  -----------------  -----------------  -----------------\n",
      "         C           -3.948535872856     0.427226087884     0.458357631934    12.000000000000\n",
      "         C           -2.482735872856     0.345026087884     0.800557631934    12.000000000000\n",
      "         O           -2.102935872856     0.493026087884     1.956757631934    15.994914619570\n",
      "         N           -1.695335872856     0.090326087884    -0.308742368066    14.003074004430\n",
      "         C           -0.293335872856    -0.063173912116    -0.330442368066    12.000000000000\n",
      "         C            0.483664127144    -0.211973912116     0.821657631934    12.000000000000\n",
      "         C            1.875264127144    -0.319273912116     0.734457631934    12.000000000000\n",
      "         C            2.488264127144    -0.279373912116    -0.510942368066    12.000000000000\n",
      "         C            1.731764127144    -0.161573912116    -1.668942368066    12.000000000000\n",
      "         C            0.339664127144    -0.063273912116    -1.579642368066    12.000000000000\n",
      "         O            3.843564127144    -0.346773912116    -0.636242368066    15.994914619570\n",
      "         H           -4.480935872856     0.939926087884     1.265257631934     1.007825032230\n",
      "         H           -4.351435872856    -0.582473912116     0.346657631934     1.007825032230\n",
      "         H           -4.101835872856     0.994226087884    -0.463942368066     1.007825032230\n",
      "         H           -2.155835872856     0.100126087884    -1.210242368066     1.007825032230\n",
      "         H            0.033264127144    -0.258773912116     1.808157631934     1.007825032230\n",
      "         H            2.451364127144    -0.428473912116     1.647757631934     1.007825032230\n",
      "         H            2.223564127144    -0.133673912116    -2.636642368066     1.007825032230\n",
      "         H           -0.231235872856     0.037926087884    -2.498042368066     1.007825032230\n",
      "         H            4.233564127144    -0.358673912116     0.253757631934     1.007825032230\n",
      "\n",
      "  Running in c1 symmetry.\n",
      "\n",
      "  Rotational constants: A =      0.11800  B =      0.01839  C =      0.01602 [cm^-1]\n",
      "  Rotational constants: A =   3537.66740  B =    551.36517  C =    480.21973 [MHz]\n",
      "  Nuclear repulsion =  571.748066627600110\n",
      "\n",
      "  Charge       = 0\n",
      "  Multiplicity = 1\n",
      "  Electrons    = 80\n",
      "  Nalpha       = 40\n",
      "  Nbeta        = 40\n",
      "\n",
      "  ==> Algorithm <==\n",
      "\n",
      "  SCF Algorithm Type is DF.\n",
      "  DIIS enabled.\n",
      "  MOM disabled.\n",
      "  Fractional occupation disabled.\n",
      "  Guess Type is SAD.\n",
      "  Energy threshold   = 1.00e-06\n",
      "  Density threshold  = 1.00e-06\n",
      "  Integral threshold = 0.00e+00\n",
      "\n",
      "  ==> Primary Basis <==\n",
      "\n",
      "  Basis Set: AUG-CC-PVDZ\n",
      "    Blend: AUG-CC-PVDZ\n",
      "    Number of shells: 144\n",
      "    Number of basis function: 334\n",
      "    Number of Cartesian functions: 356\n",
      "    Spherical Harmonics?: true\n",
      "    Max angular momentum: 2\n",
      "\n",
      "  ==> DFT Potential <==\n",
      "\n",
      "   => Composite Functional: B3LYP <= \n",
      "\n",
      "    B3LYP Hyb-GGA Exchange-Correlation Functional\n",
      "\n",
      "    P. J. Stephens, F. J. Devlin, C. F. Chabalowski, and M. J. Frisch, J. Phys. Chem. 98, 11623 (1994)\n",
      "\n",
      "    Deriv               =              1\n",
      "    GGA                 =           TRUE\n",
      "    Meta                =          FALSE\n",
      "\n",
      "    Exchange Hybrid     =           TRUE\n",
      "    MP2 Hybrid          =          FALSE\n",
      "\n",
      "   => Exchange Functionals <=\n",
      "\n",
      "    0.0800   Slater exchange\n",
      "    0.7200         Becke 88\n",
      "\n",
      "   => Exact (HF) Exchange <=\n",
      "\n",
      "    0.2000               HF \n",
      "\n",
      "   => Correlation Functionals <=\n",
      "\n",
      "    0.1900   Vosko, Wilk & Nusair (VWN5_RPA)\n",
      "    0.8100   Lee, Yang & Parr\n",
      "\n",
      "   => Molecular Quadrature <=\n",
      "\n",
      "    Radial Scheme          =       TREUTLER\n",
      "    Pruning Scheme         =           FLAT\n",
      "    Nuclear Scheme         =       TREUTLER\n",
      "\n",
      "    BS radius alpha        =              1\n",
      "    Pruning alpha          =              1\n",
      "    Radial Points          =             75\n",
      "    Spherical Points       =            302\n",
      "    Total Points           =         453000\n",
      "    Total Blocks           =           3368\n",
      "    Max Points             =            256\n",
      "    Max Functions          =            317\n",
      "\n",
      "   => Loading Basis Set <=\n",
      "\n",
      "    Name: (AUG-CC-PVDZ AUX)\n",
      "    Role: JKFIT\n",
      "    Keyword: DF_BASIS_SCF\n",
      "    atoms 1-2, 5-10 entry C          line   154 file /opt/miniconda3/envs/python2/share/psi4/basis/aug-cc-pvdz-jkfit.gbs \n",
      "    atoms 3, 11     entry O          line   270 file /opt/miniconda3/envs/python2/share/psi4/basis/aug-cc-pvdz-jkfit.gbs \n",
      "    atoms 4         entry N          line   212 file /opt/miniconda3/envs/python2/share/psi4/basis/aug-cc-pvdz-jkfit.gbs \n",
      "    atoms 12-20     entry H          line    70 file /opt/miniconda3/envs/python2/share/psi4/basis/aug-cc-pvdz-jkfit.gbs \n",
      "\n",
      "  ==> Pre-Iterations <==\n",
      "\n",
      "   -------------------------------------------------------\n",
      "    Irrep   Nso     Nmo     Nalpha   Nbeta   Ndocc  Nsocc\n",
      "   -------------------------------------------------------\n",
      "     A        334     334       0       0       0       0\n",
      "   -------------------------------------------------------\n",
      "    Total     334     334      40      40      40       0\n",
      "   -------------------------------------------------------\n",
      "\n",
      "  ==> Integral Setup <==\n",
      "\n",
      "  DFHelper Memory: AOs need 1.005 GiB; user supplied 1.005 GiB. Using in-core AOs.\n",
      "\n",
      "  ==> MemDFJK: Density-Fitted J/K Matrices <==\n",
      "\n",
      "    J tasked:                   Yes\n",
      "    K tasked:                   Yes\n",
      "    wK tasked:                   No\n",
      "    OpenMP threads:               4\n",
      "    Memory [MiB]:              1029\n",
      "    Algorithm:                 Core\n",
      "    Schwarz Cutoff:           1E-12\n",
      "    Mask sparsity (%):       5.1095\n",
      "    Fitting Condition:        1E-10\n",
      "\n",
      "   => Auxiliary Basis Set <=\n",
      "\n",
      "  Basis Set: (AUG-CC-PVDZ AUX)\n",
      "    Blend: AUG-CC-PVDZ-JKFIT\n",
      "    Number of shells: 416\n",
      "    Number of basis function: 1234\n",
      "    Number of Cartesian functions: 1426\n",
      "    Spherical Harmonics?: true\n",
      " "
     ]
    }
   ],
   "source": [
    "#Gas-phase calculations\n",
    "\n",
    "#Unit cell obtained from https://materialsproject.org/materials/mp-48/\n",
    "\n",
    "import psi4\n",
    "\n",
    "psi4.set_memory(4250000000)\n",
    "psi4.set_num_threads(4)\n",
    "\n",
    "molecule = psi4.geometry(\"\"\" 0 1\n",
    "C          1.07120       -0.10540       -0.05200\n",
    "C          2.53700       -0.18760        0.29020\n",
    "O          2.91680       -0.03960        1.44640\n",
    "N          3.32440       -0.44230       -0.81910\n",
    "C          4.72640       -0.59580       -0.84080\n",
    "C          5.50340       -0.74460        0.31130\n",
    "C          6.89500       -0.85190        0.22410\n",
    "C          7.50800       -0.81200       -1.02130\n",
    "C          6.75150       -0.69420       -2.17930\n",
    "C          5.35940       -0.59590       -2.09000\n",
    "O          8.86330       -0.87940       -1.14660\n",
    "H          0.53880        0.40730        0.75490\n",
    "H          0.66830       -1.11510       -0.16370\n",
    "H          0.91790        0.46160       -0.97430\n",
    "H          2.86390       -0.43250       -1.72060\n",
    "H          5.05300       -0.79140        1.29780\n",
    "H          7.47110       -0.96110        1.13740\n",
    "H          7.24330       -0.66630       -3.14700\n",
    "H          4.78850       -0.49470       -3.00840\n",
    "H          9.25330       -0.89130       -0.25660\n",
    "\n",
    "\n",
    "\n",
    "\"\"\", name= \"Small Molecule\")\n",
    "\n",
    "psi4.set_options({\n",
    " \"save_jk\" : True,\n",
    "})\n",
    "\n",
    "e, wfn = psi4.energy(\"B3LYP/aug-cc-pVDZ\", return_wfn=True, molecule=molecule, max_iter=5)"
   ]
  },
  {
   "cell_type": "code",
   "execution_count": 4,
   "id": "a4c9412b",
   "metadata": {
    "scrolled": true
   },
   "outputs": [
    {
     "name": "stdout",
     "output_type": "stream",
     "text": [
      "-0.2155953797770017 -0.026752803662920054 -515.5553513144238\n"
     ]
    }
   ],
   "source": [
    "HOMO = wfn.epsilon_a_subset('AO', 'ALL').np[wfn.nalpha()-1]\n",
    "LUMO = wfn.epsilon_a_subset('AO', 'ALL').np[wfn.nalpha()]\n",
    "print(HOMO, LUMO, e)"
   ]
  },
  {
   "cell_type": "code",
   "execution_count": 6,
   "id": "982aedce",
   "metadata": {},
   "outputs": [
    {
     "name": "stdout",
     "output_type": "stream",
     "text": [
      "5.138670875670721\n"
     ]
    }
   ],
   "source": [
    "band_gap=(LUMO-HOMO)*27.2114 \n",
    "\n",
    "print(band_gap)"
   ]
  },
  {
   "cell_type": "code",
   "execution_count": 7,
   "id": "8b5ada0a",
   "metadata": {
    "scrolled": false
   },
   "outputs": [
    {
     "name": "stdout",
     "output_type": "stream",
     "text": [
      "\n",
      "\n",
      "Properties will be evaluated at   0.000000,   0.000000,   0.000000 [a0]\n",
      "\n",
      "Properties computed using the H3O+ SCF density matrix\n",
      "\n",
      "\n",
      " Multipole Moments:\n",
      "\n",
      " ------------------------------------------------------------------------------------\n",
      "     Multipole            Electronic (a.u.)      Nuclear  (a.u.)        Total (a.u.)\n",
      " ------------------------------------------------------------------------------------\n",
      "\n",
      " L = 1.  Multiply by 2.5417464519 to convert [e a0] to [Debye]\n",
      " Dipole X            :          5.6336211           -5.9673201           -0.3336990\n",
      " Dipole Y            :         -0.4343754            0.2911823           -0.1431931\n",
      " Dipole Z            :          0.5597244           -1.3870390           -0.8273146\n",
      " Magnitude           :                                                    0.9034980\n",
      "\n",
      " ------------------------------------------------------------------------------------\n"
     ]
    }
   ],
   "source": [
    "#Dipole Moment Calculation\n",
    "\n",
    "psi4.oeprop(wfn, 'DIPOLE', title='H3O+ SCF')"
   ]
  },
  {
   "cell_type": "code",
   "execution_count": 8,
   "id": "db2b1d86",
   "metadata": {},
   "outputs": [],
   "source": [
    "dipole_moment_magnitude=1.0739278*2.5417464519   #Converting to Debye"
   ]
  },
  {
   "cell_type": "code",
   "execution_count": 9,
   "id": "45979851",
   "metadata": {},
   "outputs": [
    {
     "data": {
      "text/plain": [
       "2.729652175246773"
      ]
     },
     "execution_count": 9,
     "metadata": {},
     "output_type": "execute_result"
    }
   ],
   "source": [
    "dipole_moment_magnitude"
   ]
  },
  {
   "cell_type": "code",
   "execution_count": 18,
   "id": "81b75f85",
   "metadata": {},
   "outputs": [
    {
     "data": {
      "text/plain": [
       "-1.5360200389000225"
      ]
     },
     "execution_count": 18,
     "metadata": {},
     "output_type": "execute_result"
    }
   ],
   "source": [
    "exciton_energy"
   ]
  }
 ],
 "metadata": {
  "kernelspec": {
   "display_name": "Python 3 (ipykernel)",
   "language": "python",
   "name": "python3"
  },
  "language_info": {
   "codemirror_mode": {
    "name": "ipython",
    "version": 3
   },
   "file_extension": ".py",
   "mimetype": "text/x-python",
   "name": "python",
   "nbconvert_exporter": "python",
   "pygments_lexer": "ipython3",
   "version": "3.7.13"
  }
 },
 "nbformat": 4,
 "nbformat_minor": 5
}
